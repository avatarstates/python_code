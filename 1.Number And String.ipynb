{
 "cells": [
  {
   "cell_type": "code",
   "execution_count": 1,
   "metadata": {},
   "outputs": [
    {
     "name": "stdout",
     "output_type": "stream",
     "text": [
      "1\n"
     ]
    }
   ],
   "source": [
    "i=1\n",
    "print(i)"
   ]
  },
  {
   "cell_type": "code",
   "execution_count": 4,
   "metadata": {},
   "outputs": [],
   "source": [
    "#buyunxing"
   ]
  },
  {
   "cell_type": "code",
   "execution_count": 12,
   "metadata": {},
   "outputs": [],
   "source": [
    "yen=16.6\n",
    "HongKong_yuan=16.1\n",
    "dollar=0.14"
   ]
  },
  {
   "cell_type": "code",
   "execution_count": 13,
   "metadata": {},
   "outputs": [
    {
     "name": "stdout",
     "output_type": "stream",
     "text": [
      "3.22\n"
     ]
    }
   ],
   "source": [
    "print(23*dollar)"
   ]
  },
  {
   "cell_type": "code",
   "execution_count": 17,
   "metadata": {},
   "outputs": [
    {
     "name": "stdout",
     "output_type": "stream",
     "text": [
      "<class 'int'>\n",
      "<class 'bool'>\n",
      "<class 'str'>\n"
     ]
    }
   ],
   "source": [
    "print(type(123))\n",
    "print(type(True))\n",
    "print(type(\"True\"))"
   ]
  },
  {
   "cell_type": "code",
   "execution_count": 25,
   "metadata": {},
   "outputs": [
    {
     "name": "stdout",
     "output_type": "stream",
     "text": [
      " \n",
      "l\n",
      "I\n"
     ]
    }
   ],
   "source": [
    "sl=\"I love math\"\n",
    "print(sl[1])\n",
    "print(sl[2:3])\n",
    "#左闭右开\n",
    "print(sl[0])"
   ]
  },
  {
   "cell_type": "code",
   "execution_count": 39,
   "metadata": {},
   "outputs": [
    {
     "name": "stdout",
     "output_type": "stream",
     "text": [
      "I love mathI love it\n",
      "True\n",
      "ab\"cd\n",
      "ab\"cd\n",
      "ab\"cd\n",
      "ab/d\n",
      "ab\n",
      "cd\n"
     ]
    }
   ],
   "source": [
    "s2=\"I love it\"\n",
    "print(sl+ s2)\n",
    "s=\"love\"\n",
    "print(s in sl)\n",
    "print('ab\"cd')\n",
    "print(\"ab\\\"cd\")\n",
    "print('ab\"cd')\n",
    "print('ab/d')"
   ]
  },
  {
   "cell_type": "code",
   "execution_count": 47,
   "metadata": {},
   "outputs": [
    {
     "name": "stdout",
     "output_type": "stream",
     "text": [
      "ab\n",
      "cd\n",
      "0\n",
      "-1\n",
      "1\n",
      "10\n"
     ]
    }
   ],
   "source": [
    "print(\"ab\\ncd\")\n",
    "print(\"Hello world\".find(\"Hello\"))\n",
    "print(\"Hello world\".find(\"hello\"))\n",
    "print(\"Hello world\".find(\"ello\"))\n",
    "print(\"Hello world\".find(\"d\"))"
   ]
  },
  {
   "cell_type": "code",
   "execution_count": 48,
   "metadata": {},
   "outputs": [
    {
     "name": "stdout",
     "output_type": "stream",
     "text": [
      "I love math\n"
     ]
    }
   ],
   "source": [
    "print(\"%s love math\"%(\"I\"))"
   ]
  },
  {
   "cell_type": "code",
   "execution_count": 51,
   "metadata": {},
   "outputs": [
    {
     "name": "stdout",
     "output_type": "stream",
     "text": [
      " you OK!\n"
     ]
    }
   ],
   "source": [
    "a=\"Are you OK?\"\n",
    "b=a.replace(\"Are\",\"\").replace(\"?\",\"!\")\n",
    "print(b)"
   ]
  },
  {
   "cell_type": "code",
   "execution_count": 53,
   "metadata": {},
   "outputs": [
    {
     "name": "stdout",
     "output_type": "stream",
     "text": [
      "End\n"
     ]
    }
   ],
   "source": [
    "print(\"End\")"
   ]
  },
  {
   "cell_type": "code",
   "execution_count": null,
   "metadata": {},
   "outputs": [],
   "source": [
    "print(r\"ab\\ncd\")\n",
    "print(\"ab\\ncd\")"
   ]
  },
  {
   "cell_type": "code",
   "execution_count": null,
   "metadata": {},
   "outputs": [],
   "source": []
  }
 ],
 "metadata": {
  "kernelspec": {
   "display_name": "Python 3",
   "language": "python",
   "name": "python3"
  },
  "language_info": {
   "codemirror_mode": {
    "name": "ipython",
    "version": 3
   },
   "file_extension": ".py",
   "mimetype": "text/x-python",
   "name": "python",
   "nbconvert_exporter": "python",
   "pygments_lexer": "ipython3",
   "version": "3.7.1"
  }
 },
 "nbformat": 4,
 "nbformat_minor": 2
}
